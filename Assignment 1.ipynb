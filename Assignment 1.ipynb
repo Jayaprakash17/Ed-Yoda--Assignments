{
 "cells": [
  {
   "cell_type": "markdown",
   "id": "c1a00f86",
   "metadata": {},
   "source": [
    "## 1. Create a null vector of size 10 but the fifth value which is 1.\n"
   ]
  },
  {
   "cell_type": "code",
   "execution_count": 1,
   "id": "026c281c",
   "metadata": {},
   "outputs": [],
   "source": [
    "import numpy as np "
   ]
  },
  {
   "cell_type": "code",
   "execution_count": 2,
   "id": "d461d794",
   "metadata": {},
   "outputs": [
    {
     "data": {
      "text/plain": [
       "array([0., 0., 0., 0., 1., 0., 0., 0., 0., 0.])"
      ]
     },
     "execution_count": 2,
     "metadata": {},
     "output_type": "execute_result"
    }
   ],
   "source": [
    "null_vector = np.zeros(10)\n",
    "null_vector[4] = 1\n",
    "null_vector"
   ]
  },
  {
   "cell_type": "markdown",
   "id": "77d8861d",
   "metadata": {},
   "source": [
    "## 2. Create a vector with values ranging from 10 to 49.\n"
   ]
  },
  {
   "cell_type": "code",
   "execution_count": 3,
   "id": "78b3e5a4",
   "metadata": {},
   "outputs": [
    {
     "data": {
      "text/plain": [
       "array([10, 11, 12, 13, 14, 15, 16, 17, 18, 19, 20, 21, 22, 23, 24, 25, 26,\n",
       "       27, 28, 29, 30, 31, 32, 33, 34, 35, 36, 37, 38, 39, 40, 41, 42, 43,\n",
       "       44, 45, 46, 47, 48, 49])"
      ]
     },
     "execution_count": 3,
     "metadata": {},
     "output_type": "execute_result"
    }
   ],
   "source": [
    "nd_vector = np.arange(10,50)\n",
    "nd_vector"
   ]
  },
  {
   "cell_type": "markdown",
   "id": "1c8ab348",
   "metadata": {},
   "source": [
    "## 3. Create a 3x3 matrix with values ranging from 0 to 8"
   ]
  },
  {
   "cell_type": "code",
   "execution_count": 4,
   "id": "4d7d0483",
   "metadata": {},
   "outputs": [
    {
     "data": {
      "text/plain": [
       "array([[0, 1, 2],\n",
       "       [3, 4, 5],\n",
       "       [6, 7, 8]])"
      ]
     },
     "execution_count": 4,
     "metadata": {},
     "output_type": "execute_result"
    }
   ],
   "source": [
    "matrix = np.arange(0,9).reshape(3,3)\n",
    "matrix"
   ]
  },
  {
   "cell_type": "markdown",
   "id": "20d81be1",
   "metadata": {},
   "source": [
    "## 4. Find indices of non-zero elements from [1,2,0,0,4,0]"
   ]
  },
  {
   "cell_type": "code",
   "execution_count": 5,
   "id": "5b3a014e",
   "metadata": {},
   "outputs": [
    {
     "data": {
      "text/plain": [
       "(array([0, 1, 4], dtype=int64),)"
      ]
     },
     "execution_count": 5,
     "metadata": {},
     "output_type": "execute_result"
    }
   ],
   "source": [
    "non_zero = np.nonzero([1,2,0,0,4,0])\n",
    "non_zero"
   ]
  },
  {
   "cell_type": "markdown",
   "id": "d578cbee",
   "metadata": {},
   "source": [
    "## 5. Create a 10x10 array with random values and find the minimum and maximum values.\n"
   ]
  },
  {
   "cell_type": "code",
   "execution_count": 12,
   "id": "dda9fdc5",
   "metadata": {},
   "outputs": [
    {
     "data": {
      "text/plain": [
       "array([[685, 560, 630, 193, 836, 764, 708, 360,  10, 724],\n",
       "       [278, 755, 805, 600,  71, 473, 601, 397, 315, 706],\n",
       "       [487, 552,  88, 175, 601, 850, 678, 538, 846,  73],\n",
       "       [778, 917, 116, 977, 756, 710, 848, 432, 449, 851],\n",
       "       [100, 985, 178, 756, 798, 660, 148, 911, 424, 289],\n",
       "       [962, 266, 698, 640, 545, 544, 715, 245, 152, 676],\n",
       "       [511, 460, 883, 184,  29, 803, 129, 129, 933,  54],\n",
       "       [902, 551, 489, 757, 274, 336, 389, 618,  43, 443],\n",
       "       [544, 889, 258, 322, 938,  58, 292, 871, 120, 780],\n",
       "       [431,  83,  92, 897, 399, 612, 566, 909, 634, 939]])"
      ]
     },
     "execution_count": 12,
     "metadata": {},
     "output_type": "execute_result"
    }
   ],
   "source": [
    "np.random.seed(0)\n",
    "random_matrix = np.random.randint(1,1000,(10,10))\n",
    "random_matrix"
   ]
  },
  {
   "cell_type": "code",
   "execution_count": 13,
   "id": "90dd1fe1",
   "metadata": {},
   "outputs": [
    {
     "data": {
      "text/plain": [
       "985"
      ]
     },
     "execution_count": 13,
     "metadata": {},
     "output_type": "execute_result"
    }
   ],
   "source": [
    "random_matrix.max()"
   ]
  },
  {
   "cell_type": "code",
   "execution_count": 14,
   "id": "4a8726c1",
   "metadata": {},
   "outputs": [
    {
     "data": {
      "text/plain": [
       "10"
      ]
     },
     "execution_count": 14,
     "metadata": {},
     "output_type": "execute_result"
    }
   ],
   "source": [
    "random_matrix.min()"
   ]
  },
  {
   "cell_type": "markdown",
   "id": "ccd0e661",
   "metadata": {},
   "source": [
    "## 6. Create a random vector of size 30 and find the mean value."
   ]
  },
  {
   "cell_type": "code",
   "execution_count": 19,
   "id": "73bfc7af",
   "metadata": {},
   "outputs": [
    {
     "data": {
      "text/plain": [
       "array([273, 148, 218, 293, 168, 296, 204, 110, 122, 137, 188, 171, 189,\n",
       "       241, 159, 294, 140, 188, 275, 189, 182, 266, 126, 178, 173, 110,\n",
       "       249, 216, 298, 180])"
      ]
     },
     "execution_count": 19,
     "metadata": {},
     "output_type": "execute_result"
    }
   ],
   "source": [
    "np.random.seed(0)\n",
    "matrix = np.random.randint(101,300,size=(30))\n",
    "matrix"
   ]
  },
  {
   "cell_type": "code",
   "execution_count": 20,
   "id": "4184fa91",
   "metadata": {},
   "outputs": [
    {
     "data": {
      "text/plain": [
       "199.36666666666667"
      ]
     },
     "execution_count": 20,
     "metadata": {},
     "output_type": "execute_result"
    }
   ],
   "source": [
    "matrix.mean()"
   ]
  },
  {
   "cell_type": "code",
   "execution_count": null,
   "id": "792f5849",
   "metadata": {},
   "outputs": [],
   "source": []
  }
 ],
 "metadata": {
  "kernelspec": {
   "display_name": "Python 3 (ipykernel)",
   "language": "python",
   "name": "python3"
  },
  "language_info": {
   "codemirror_mode": {
    "name": "ipython",
    "version": 3
   },
   "file_extension": ".py",
   "mimetype": "text/x-python",
   "name": "python",
   "nbconvert_exporter": "python",
   "pygments_lexer": "ipython3",
   "version": "3.10.4"
  }
 },
 "nbformat": 4,
 "nbformat_minor": 5
}
