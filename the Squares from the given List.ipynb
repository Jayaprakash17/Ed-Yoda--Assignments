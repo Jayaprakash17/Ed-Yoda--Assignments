{
 "cells": [
  {
   "cell_type": "code",
   "execution_count": 1,
   "id": "311277b0",
   "metadata": {},
   "outputs": [
    {
     "name": "stdout",
     "output_type": "stream",
     "text": [
      "Give numbers separated by comma : 4,5,2,9\n",
      "[16, 25, 4, 81]\n"
     ]
    }
   ],
   "source": [
    "num_list = input(\"Give numbers separated by comma : \").split(',')\n",
    "out_list = map(lambda x : int(x)  ** 2, num_list)\n",
    "print(list(out_list))"
   ]
  },
  {
   "cell_type": "code",
   "execution_count": null,
   "id": "0239830b",
   "metadata": {},
   "outputs": [],
   "source": []
  }
 ],
 "metadata": {
  "kernelspec": {
   "display_name": "Python 3 (ipykernel)",
   "language": "python",
   "name": "python3"
  },
  "language_info": {
   "codemirror_mode": {
    "name": "ipython",
    "version": 3
   },
   "file_extension": ".py",
   "mimetype": "text/x-python",
   "name": "python",
   "nbconvert_exporter": "python",
   "pygments_lexer": "ipython3",
   "version": "3.10.2"
  }
 },
 "nbformat": 4,
 "nbformat_minor": 5
}
