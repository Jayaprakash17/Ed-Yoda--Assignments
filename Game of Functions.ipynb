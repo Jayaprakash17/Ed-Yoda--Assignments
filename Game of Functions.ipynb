{
 "cells": [
  {
   "cell_type": "code",
   "execution_count": 18,
   "id": "4fbe30f9",
   "metadata": {},
   "outputs": [
    {
     "name": "stdout",
     "output_type": "stream",
     "text": [
      "Give input separated by comma:8,2,3,0,7\n",
      "Result = 20\n"
     ]
    }
   ],
   "source": [
    "sample = input(\"Give input separated by comma:\").split(',')\n",
    "def sum_of_list(order):\n",
    "    total = 0\n",
    "    for i in order:\n",
    "        num = int(i)\n",
    "        total += num\n",
    "    return total\n",
    "\n",
    "print(f\"Result = {sum_of_list(sample)}\")"
   ]
  },
  {
   "cell_type": "code",
   "execution_count": null,
   "id": "2504470c",
   "metadata": {},
   "outputs": [],
   "source": []
  },
  {
   "cell_type": "code",
   "execution_count": null,
   "id": "8ae96163",
   "metadata": {},
   "outputs": [],
   "source": []
  }
 ],
 "metadata": {
  "kernelspec": {
   "display_name": "Python 3 (ipykernel)",
   "language": "python",
   "name": "python3"
  },
  "language_info": {
   "codemirror_mode": {
    "name": "ipython",
    "version": 3
   },
   "file_extension": ".py",
   "mimetype": "text/x-python",
   "name": "python",
   "nbconvert_exporter": "python",
   "pygments_lexer": "ipython3",
   "version": "3.10.2"
  }
 },
 "nbformat": 4,
 "nbformat_minor": 5
}
