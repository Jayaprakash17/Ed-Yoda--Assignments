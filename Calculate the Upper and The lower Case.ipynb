{
 "cells": [
  {
   "cell_type": "code",
   "execution_count": 7,
   "id": "de824da2",
   "metadata": {},
   "outputs": [
    {
     "name": "stdout",
     "output_type": "stream",
     "text": [
      "Give a sample : 'The quick Brow Fox'\n",
      "Upper case = 3\n",
      "Lower case = 12\n"
     ]
    }
   ],
   "source": [
    "user_input = input(\"Give a sample : \")\n",
    "\n",
    "def calculate(sample):\n",
    "    upper = 0\n",
    "    lower = 0\n",
    "    for i in sample:\n",
    "        if ord(i) >= ord('A') and ord(i) <= ord('Z'):\n",
    "            upper += 1\n",
    "            \n",
    "        elif ord(i) >= ord('a') and ord(i) <= ord('z'):\n",
    "            lower += 1\n",
    "    print(f\"Upper case = {upper}\")\n",
    "    print(f\"Lower case = {lower}\")\n",
    "            \n",
    "calculate(user_input)\n",
    "        "
   ]
  },
  {
   "cell_type": "code",
   "execution_count": null,
   "id": "f7aeca56",
   "metadata": {},
   "outputs": [],
   "source": []
  }
 ],
 "metadata": {
  "kernelspec": {
   "display_name": "Python 3 (ipykernel)",
   "language": "python",
   "name": "python3"
  },
  "language_info": {
   "codemirror_mode": {
    "name": "ipython",
    "version": 3
   },
   "file_extension": ".py",
   "mimetype": "text/x-python",
   "name": "python",
   "nbconvert_exporter": "python",
   "pygments_lexer": "ipython3",
   "version": "3.10.2"
  }
 },
 "nbformat": 4,
 "nbformat_minor": 5
}
