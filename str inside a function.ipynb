{
 "cells": [
  {
   "cell_type": "code",
   "execution_count": 3,
   "id": "ca3c1231",
   "metadata": {},
   "outputs": [
    {
     "name": "stdout",
     "output_type": "stream",
     "text": [
      "Give a string: \"abcd1234\"\n",
      "Result : \"4321dcba\"\n"
     ]
    }
   ],
   "source": [
    "user_input = input(\"Give a string: \")\n",
    "\n",
    "def reverse(sample):\n",
    "    reversed_str = ''\n",
    "    for i in sample:\n",
    "        reversed_str = i + reversed_str\n",
    "    return reversed_str\n",
    "\n",
    "print(f\"Result : {reverse(user_input)}\")"
   ]
  },
  {
   "cell_type": "code",
   "execution_count": null,
   "id": "40408e14",
   "metadata": {},
   "outputs": [],
   "source": []
  }
 ],
 "metadata": {
  "kernelspec": {
   "display_name": "Python 3 (ipykernel)",
   "language": "python",
   "name": "python3"
  },
  "language_info": {
   "codemirror_mode": {
    "name": "ipython",
    "version": 3
   },
   "file_extension": ".py",
   "mimetype": "text/x-python",
   "name": "python",
   "nbconvert_exporter": "python",
   "pygments_lexer": "ipython3",
   "version": "3.10.2"
  }
 },
 "nbformat": 4,
 "nbformat_minor": 5
}
