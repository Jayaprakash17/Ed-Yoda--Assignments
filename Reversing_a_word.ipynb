{
 "cells": [
  {
   "cell_type": "code",
   "execution_count": 2,
   "id": "e69ae71c",
   "metadata": {},
   "outputs": [
    {
     "name": "stdout",
     "output_type": "stream",
     "text": [
      "Give a word : Edyoda\n",
      "The reversed word is : adoydE\n"
     ]
    }
   ],
   "source": [
    "word = input(\"Give a word : \")\n",
    "\n",
    "def reverse (word):\n",
    "    string = ''\n",
    "    index = len(word)\n",
    "    for i in range(len(word)):\n",
    "        string += word[index-1]\n",
    "        index -=1\n",
    "    return string\n",
    "    \n",
    "print(f\"The reversed word is : {reverse(word)}\")"
   ]
  },
  {
   "cell_type": "code",
   "execution_count": null,
   "id": "a55e37a8",
   "metadata": {},
   "outputs": [],
   "source": []
  }
 ],
 "metadata": {
  "kernelspec": {
   "display_name": "Python 3 (ipykernel)",
   "language": "python",
   "name": "python3"
  },
  "language_info": {
   "codemirror_mode": {
    "name": "ipython",
    "version": 3
   },
   "file_extension": ".py",
   "mimetype": "text/x-python",
   "name": "python",
   "nbconvert_exporter": "python",
   "pygments_lexer": "ipython3",
   "version": "3.10.2"
  }
 },
 "nbformat": 4,
 "nbformat_minor": 5
}
