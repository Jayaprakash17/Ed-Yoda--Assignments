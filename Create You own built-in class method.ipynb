{
 "cells": [
  {
   "cell_type": "code",
   "execution_count": 1,
   "id": "149ec1b3",
   "metadata": {},
   "outputs": [
    {
     "name": "stdout",
     "output_type": "stream",
     "text": [
      "x : 10\n",
      "n : 5\n",
      "Result : 100000\n"
     ]
    }
   ],
   "source": [
    "class Powerof:\n",
    "    \n",
    "    \n",
    "    def __init__(self,**kwargs):\n",
    "    #using **kwargs to get hold of number and power\n",
    "        self.num = kwargs.get('x')\n",
    "        self.to_power = kwargs.get('n')\n",
    "        \n",
    "        \n",
    "    def raise_power(self):\n",
    "        '''This function raises the number by the power given in kwargs'''\n",
    "        return self.num ** self.to_power\n",
    "\n",
    "\n",
    "my_power = Powerof(x=int(input(\"x : \")), n=int(input(\"n : \")))\n",
    "\n",
    "print(f\"Result : {my_power.raise_power()}\")"
   ]
  },
  {
   "cell_type": "code",
   "execution_count": null,
   "id": "33448b7c",
   "metadata": {},
   "outputs": [],
   "source": []
  }
 ],
 "metadata": {
  "kernelspec": {
   "display_name": "Python 3 (ipykernel)",
   "language": "python",
   "name": "python3"
  },
  "language_info": {
   "codemirror_mode": {
    "name": "ipython",
    "version": 3
   },
   "file_extension": ".py",
   "mimetype": "text/x-python",
   "name": "python",
   "nbconvert_exporter": "python",
   "pygments_lexer": "ipython3",
   "version": "3.10.2"
  }
 },
 "nbformat": 4,
 "nbformat_minor": 5
}
