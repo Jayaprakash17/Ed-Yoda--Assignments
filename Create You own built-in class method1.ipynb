{
 "cells": [
  {
   "cell_type": "code",
   "execution_count": 3,
   "id": "3838859a",
   "metadata": {},
   "outputs": [
    {
     "name": "stdout",
     "output_type": "stream",
     "text": [
      "x : 6\n",
      "n : 2\n",
      "Result :36\n"
     ]
    }
   ],
   "source": [
    "class Power:\n",
    "    \n",
    "    def __init__(self,x,n):\n",
    "        self.x = x\n",
    "        self.n = n\n",
    "        \n",
    "    def raise_power(self):\n",
    "        return self.x ** self.n\n",
    "    \n",
    "num = int(input(\"x : \"))\n",
    "p = int(input(\"n : \"))\n",
    "\n",
    "my_class = Power(x=num, n=p)\n",
    "print(f\"Result :{my_class.raise_power()}\")"
   ]
  },
  {
   "cell_type": "code",
   "execution_count": null,
   "id": "e07cb9c9",
   "metadata": {},
   "outputs": [],
   "source": []
  },
  {
   "cell_type": "code",
   "execution_count": null,
   "id": "08cbf3e8",
   "metadata": {},
   "outputs": [],
   "source": []
  }
 ],
 "metadata": {
  "kernelspec": {
   "display_name": "Python 3 (ipykernel)",
   "language": "python",
   "name": "python3"
  },
  "language_info": {
   "codemirror_mode": {
    "name": "ipython",
    "version": 3
   },
   "file_extension": ".py",
   "mimetype": "text/x-python",
   "name": "python",
   "nbconvert_exporter": "python",
   "pygments_lexer": "ipython3",
   "version": "3.10.2"
  }
 },
 "nbformat": 4,
 "nbformat_minor": 5
}
