{
 "cells": [
  {
   "cell_type": "code",
   "execution_count": 6,
   "id": "9e751938",
   "metadata": {},
   "outputs": [
    {
     "name": "stdout",
     "output_type": "stream",
     "text": [
      "Give numbers separated by comma : 1,2,3,4,5\n",
      "[3, 6, 9, 12, 15]\n"
     ]
    }
   ],
   "source": [
    "num_list = input(\"Give numbers separated by comma : \").split(',')\n",
    "out_list = map(lambda x : int(x) * 3, num_list)\n",
    "print(list(out_list))"
   ]
  },
  {
   "cell_type": "code",
   "execution_count": null,
   "id": "db396972",
   "metadata": {},
   "outputs": [],
   "source": []
  },
  {
   "cell_type": "code",
   "execution_count": null,
   "id": "9d1a0837",
   "metadata": {},
   "outputs": [],
   "source": []
  }
 ],
 "metadata": {
  "kernelspec": {
   "display_name": "Python 3 (ipykernel)",
   "language": "python",
   "name": "python3"
  },
  "language_info": {
   "codemirror_mode": {
    "name": "ipython",
    "version": 3
   },
   "file_extension": ".py",
   "mimetype": "text/x-python",
   "name": "python",
   "nbconvert_exporter": "python",
   "pygments_lexer": "ipython3",
   "version": "3.10.2"
  }
 },
 "nbformat": 4,
 "nbformat_minor": 5
}
